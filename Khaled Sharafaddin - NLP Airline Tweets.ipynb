{
 "cells": [
  {
   "cell_type": "markdown",
   "metadata": {},
   "source": [
    "### Khaled Sharafaddin - NLP Airline Tweets Sentiment Analysis - July.25.2021\n",
    "\n",
    "\n",
    "#### Background and Context:\n",
    "\n",
    "- Twitter posses 330 million monthly active users, which allows businesses to reach a broad population and connect with customers without intermediaries. On the other side, there’s so much information that it’s difficult for brands to quickly detect negative social mentions that could harm their business.\n",
    "\n",
    "- That's why sentiment analysis/classification, which involves monitoring emotions in conversations on social media platforms, has become a key strategy in social media marketing.\n",
    "\n",
    "\n",
    "- Listening to how customers feel about the product/services on Twitter allows companies to understand their audience, keep on top of what’s being said about their brand, and their competitors, and discover new trends in the industry.\n",
    "\n",
    " \n",
    "\n",
    "#### Data Description:\n",
    "\n",
    "- A sentiment analysis job about the problems of each major U.S. airline. Twitter data was scraped from February of 2015 and contributors were asked to first classify positive, negative, and neutral tweets, followed by categorizing negative reasons (such as \"late flight\" or \"rude service\")."
   ]
  },
  {
   "cell_type": "markdown",
   "metadata": {},
   "source": [
    "## 1. Import the libraries, load dataset, the print shape of data, data description. "
   ]
  },
  {
   "cell_type": "code",
   "execution_count": 1,
   "metadata": {},
   "outputs": [
    {
     "name": "stderr",
     "output_type": "stream",
     "text": [
      "[nltk_data] Downloading package punkt to\n",
      "[nltk_data]     /Users/khaledsharafaddin/nltk_data...\n",
      "[nltk_data]   Package punkt is already up-to-date!\n"
     ]
    },
    {
     "name": "stdout",
     "output_type": "stream",
     "text": [
      "Shape of the data: 14640 by 15\n",
      "Description of the data: \n"
     ]
    },
    {
     "name": "stderr",
     "output_type": "stream",
     "text": [
      "[nltk_data] Downloading package stopwords to\n",
      "[nltk_data]     /Users/khaledsharafaddin/nltk_data...\n",
      "[nltk_data]   Package stopwords is already up-to-date!\n"
     ]
    },
    {
     "data": {
      "text/html": [
       "<div>\n",
       "<style scoped>\n",
       "    .dataframe tbody tr th:only-of-type {\n",
       "        vertical-align: middle;\n",
       "    }\n",
       "\n",
       "    .dataframe tbody tr th {\n",
       "        vertical-align: top;\n",
       "    }\n",
       "\n",
       "    .dataframe thead th {\n",
       "        text-align: right;\n",
       "    }\n",
       "</style>\n",
       "<table border=\"1\" class=\"dataframe\">\n",
       "  <thead>\n",
       "    <tr style=\"text-align: right;\">\n",
       "      <th></th>\n",
       "      <th>tweet_id</th>\n",
       "      <th>airline_sentiment_confidence</th>\n",
       "      <th>negativereason_confidence</th>\n",
       "      <th>retweet_count</th>\n",
       "    </tr>\n",
       "  </thead>\n",
       "  <tbody>\n",
       "    <tr>\n",
       "      <th>count</th>\n",
       "      <td>1.464000e+04</td>\n",
       "      <td>14640.000000</td>\n",
       "      <td>10522.000000</td>\n",
       "      <td>14640.000000</td>\n",
       "    </tr>\n",
       "    <tr>\n",
       "      <th>mean</th>\n",
       "      <td>5.692184e+17</td>\n",
       "      <td>0.900169</td>\n",
       "      <td>0.638298</td>\n",
       "      <td>0.082650</td>\n",
       "    </tr>\n",
       "    <tr>\n",
       "      <th>std</th>\n",
       "      <td>7.791112e+14</td>\n",
       "      <td>0.162830</td>\n",
       "      <td>0.330440</td>\n",
       "      <td>0.745778</td>\n",
       "    </tr>\n",
       "    <tr>\n",
       "      <th>min</th>\n",
       "      <td>5.675883e+17</td>\n",
       "      <td>0.335000</td>\n",
       "      <td>0.000000</td>\n",
       "      <td>0.000000</td>\n",
       "    </tr>\n",
       "    <tr>\n",
       "      <th>25%</th>\n",
       "      <td>5.685592e+17</td>\n",
       "      <td>0.692300</td>\n",
       "      <td>0.360600</td>\n",
       "      <td>0.000000</td>\n",
       "    </tr>\n",
       "    <tr>\n",
       "      <th>50%</th>\n",
       "      <td>5.694779e+17</td>\n",
       "      <td>1.000000</td>\n",
       "      <td>0.670600</td>\n",
       "      <td>0.000000</td>\n",
       "    </tr>\n",
       "    <tr>\n",
       "      <th>75%</th>\n",
       "      <td>5.698905e+17</td>\n",
       "      <td>1.000000</td>\n",
       "      <td>1.000000</td>\n",
       "      <td>0.000000</td>\n",
       "    </tr>\n",
       "    <tr>\n",
       "      <th>max</th>\n",
       "      <td>5.703106e+17</td>\n",
       "      <td>1.000000</td>\n",
       "      <td>1.000000</td>\n",
       "      <td>44.000000</td>\n",
       "    </tr>\n",
       "  </tbody>\n",
       "</table>\n",
       "</div>"
      ],
      "text/plain": [
       "           tweet_id  airline_sentiment_confidence  negativereason_confidence  \\\n",
       "count  1.464000e+04                  14640.000000               10522.000000   \n",
       "mean   5.692184e+17                      0.900169                   0.638298   \n",
       "std    7.791112e+14                      0.162830                   0.330440   \n",
       "min    5.675883e+17                      0.335000                   0.000000   \n",
       "25%    5.685592e+17                      0.692300                   0.360600   \n",
       "50%    5.694779e+17                      1.000000                   0.670600   \n",
       "75%    5.698905e+17                      1.000000                   1.000000   \n",
       "max    5.703106e+17                      1.000000                   1.000000   \n",
       "\n",
       "       retweet_count  \n",
       "count   14640.000000  \n",
       "mean        0.082650  \n",
       "std         0.745778  \n",
       "min         0.000000  \n",
       "25%         0.000000  \n",
       "50%         0.000000  \n",
       "75%         0.000000  \n",
       "max        44.000000  "
      ]
     },
     "execution_count": 1,
     "metadata": {},
     "output_type": "execute_result"
    }
   ],
   "source": [
    "# Libraries \n",
    "from IPython.core.interactiveshell import InteractiveShell\n",
    "InteractiveShell.ast_node_interactivity = \"all\"\n",
    "\n",
    "import re, string, unicodedata\n",
    "import numpy as np\n",
    "import random\n",
    "import pandas as pd\n",
    "import matplotlib.pyplot as plt\n",
    "import seaborn as sns\n",
    "from collections import Counter\n",
    "from wordcloud import WordCloud, STOPWORDS, ImageColorGenerator \n",
    "import nltk\n",
    "from nltk.corpus import stopwords\n",
    "import warnings\n",
    "warnings.filterwarnings('ignore')\n",
    "from nltk.stem.porter import PorterStemmer\n",
    "nltk.download('punkt')\n",
    "from bs4 import BeautifulSoup\n",
    "import nltk\n",
    "from nltk.corpus import stopwords\n",
    "nltk.download('stopwords')\n",
    "\n",
    "from sklearn.metrics import confusion_matrix\n",
    "import seaborn as sns\n",
    "import matplotlib.pyplot as plt \n",
    "\n",
    "\n",
    "# 2. Airline Tweet Dataset\n",
    "airlinetweets = pd.read_csv('/Users/khaledsharafaddin/Documents/Univ_Austin_Texas ML_AI/DataSets/Airline_Tweets.csv')\n",
    "\n",
    "print('Shape of the data:', airlinetweets.shape[0],'by', airlinetweets.shape[1])\n",
    "print('Description of the data: ')\n",
    "airlinetweets.describe()"
   ]
  },
  {
   "cell_type": "markdown",
   "metadata": {},
   "source": [
    "## 2. Understand of data columns \n",
    "- Drop all other columns except “text” and “airline_sentiment”.\n",
    "- Check the shape of the data.\n",
    "- Print the first 5 rows of data."
   ]
  },
  {
   "cell_type": "code",
   "execution_count": 2,
   "metadata": {},
   "outputs": [
    {
     "name": "stdout",
     "output_type": "stream",
     "text": [
      "airlines Shape of the data: 14640 by 2\n"
     ]
    },
    {
     "data": {
      "text/html": [
       "<div>\n",
       "<style scoped>\n",
       "    .dataframe tbody tr th:only-of-type {\n",
       "        vertical-align: middle;\n",
       "    }\n",
       "\n",
       "    .dataframe tbody tr th {\n",
       "        vertical-align: top;\n",
       "    }\n",
       "\n",
       "    .dataframe thead th {\n",
       "        text-align: right;\n",
       "    }\n",
       "</style>\n",
       "<table border=\"1\" class=\"dataframe\">\n",
       "  <thead>\n",
       "    <tr style=\"text-align: right;\">\n",
       "      <th></th>\n",
       "      <th>airline_sentiment</th>\n",
       "      <th>text</th>\n",
       "    </tr>\n",
       "  </thead>\n",
       "  <tbody>\n",
       "    <tr>\n",
       "      <th>0</th>\n",
       "      <td>neutral</td>\n",
       "      <td>@VirginAmerica What @dhepburn said.</td>\n",
       "    </tr>\n",
       "    <tr>\n",
       "      <th>1</th>\n",
       "      <td>positive</td>\n",
       "      <td>@VirginAmerica plus you've added commercials t...</td>\n",
       "    </tr>\n",
       "    <tr>\n",
       "      <th>2</th>\n",
       "      <td>neutral</td>\n",
       "      <td>@VirginAmerica I didn't today... Must mean I n...</td>\n",
       "    </tr>\n",
       "    <tr>\n",
       "      <th>3</th>\n",
       "      <td>negative</td>\n",
       "      <td>@VirginAmerica it's really aggressive to blast...</td>\n",
       "    </tr>\n",
       "    <tr>\n",
       "      <th>4</th>\n",
       "      <td>negative</td>\n",
       "      <td>@VirginAmerica and it's a really big bad thing...</td>\n",
       "    </tr>\n",
       "  </tbody>\n",
       "</table>\n",
       "</div>"
      ],
      "text/plain": [
       "  airline_sentiment                                               text\n",
       "0           neutral                @VirginAmerica What @dhepburn said.\n",
       "1          positive  @VirginAmerica plus you've added commercials t...\n",
       "2           neutral  @VirginAmerica I didn't today... Must mean I n...\n",
       "3          negative  @VirginAmerica it's really aggressive to blast...\n",
       "4          negative  @VirginAmerica and it's a really big bad thing..."
      ]
     },
     "execution_count": 2,
     "metadata": {},
     "output_type": "execute_result"
    }
   ],
   "source": [
    "# a. Drop all cols except text and airline_setiment\n",
    "airlines = airlinetweets.drop(['tweet_id', 'airline_sentiment_confidence',\n",
    "       'negativereason', 'negativereason_confidence', 'airline',\n",
    "       'airline_sentiment_gold', 'name', 'negativereason_gold',\n",
    "       'retweet_count', 'tweet_coord', 'tweet_created',\n",
    "       'tweet_location', 'user_timezone'], axis=1)\n",
    "\n",
    "\n",
    "# b. Check the shape of the data\n",
    "print('airlines Shape of the data:', airlines.shape[0],'by', airlines.shape[1])\n",
    "\n",
    "# c. Print the first 5 rows of data.\n",
    "airlines.head()"
   ]
  },
  {
   "cell_type": "markdown",
   "metadata": {},
   "source": [
    "## 3. Text pre-processing: Data preparation"
   ]
  },
  {
   "cell_type": "code",
   "execution_count": 3,
   "metadata": {},
   "outputs": [],
   "source": [
    "# a. Html tag removal.\n",
    "\n",
    "airlines_clean = airlines\n",
    "remove_html =[]\n",
    "data_size = airlines_clean.shape[0]\n",
    "\n",
    "for i in range(0, data_size):\n",
    "    remove_html.append(BeautifulSoup(airlines_clean['text'][i]).get_text())\n",
    "    \n"
   ]
  },
  {
   "cell_type": "code",
   "execution_count": 4,
   "metadata": {},
   "outputs": [],
   "source": [
    "# b. Remove the numbers, char and punctuations\n",
    "remove_numbers =[]\n",
    "\n",
    "for i in range(0, data_size):\n",
    "    remove_numbers.append(re.sub(\"[^a-zA-Z]\",\" \", remove_html[i]))"
   ]
  },
  {
   "cell_type": "code",
   "execution_count": 5,
   "metadata": {},
   "outputs": [],
   "source": [
    "# c. Cnversion to lower:\n",
    "\n",
    "to_lower = []\n",
    "for i in range(0, data_size):\n",
    "    to_lower.append(remove_numbers[i].lower()) \n"
   ]
  },
  {
   "cell_type": "code",
   "execution_count": 6,
   "metadata": {},
   "outputs": [],
   "source": [
    "# d. Tokenize the list of tweets:\n",
    "\n",
    "from nltk.corpus import stopwords\n",
    "from nltk.tokenize import word_tokenize\n",
    "stop_words = set(stopwords.words('english'))\n",
    "\n",
    "word_tokens = []\n",
    "for i in range(0, data_size):\n",
    "    word_tokens.append(word_tokenize(to_lower[i]))\n",
    "\n"
   ]
  },
  {
   "cell_type": "code",
   "execution_count": 7,
   "metadata": {},
   "outputs": [],
   "source": [
    "# e. Remove stop words\n",
    "\n",
    "stop_words = set(stopwords.words('english'))\n",
    "remove_stopwords = []\n",
    "for i in range(0, data_size):\n",
    "    row = []\n",
    "    for airlinetweet in word_tokens[i]:\n",
    "        if airlinetweet not in stop_words:\n",
    "            row.append(airlinetweet)\n",
    "\n",
    "    remove_stopwords.append(row)\n",
    "            "
   ]
  },
  {
   "cell_type": "code",
   "execution_count": 8,
   "metadata": {},
   "outputs": [],
   "source": [
    "# Convert list of lists to list of strings \n",
    "tokenized_tweets = [' '.join(my_list) for my_list in remove_stopwords]"
   ]
  },
  {
   "cell_type": "code",
   "execution_count": 9,
   "metadata": {},
   "outputs": [
    {
     "name": "stderr",
     "output_type": "stream",
     "text": [
      "[nltk_data] Downloading package wordnet to\n",
      "[nltk_data]     /Users/khaledsharafaddin/nltk_data...\n",
      "[nltk_data]   Package wordnet is already up-to-date!\n"
     ]
    },
    {
     "data": {
      "text/plain": [
       "True"
      ]
     },
     "execution_count": 9,
     "metadata": {},
     "output_type": "execute_result"
    }
   ],
   "source": [
    "# f. lemmatize text:\n",
    "from nltk.stem.wordnet import WordNetLemmatizer \n",
    "import nltk\n",
    "nltk.download('wordnet')\n",
    "lemmatizer = WordNetLemmatizer()\n",
    "\n",
    "lemmatize_text = []\n",
    "\n",
    "for i in range(0, data_size):\n",
    "     lemmatize_text.append(lemmatizer.lemmatize((tokenized_tweets[i])))\n"
   ]
  },
  {
   "cell_type": "code",
   "execution_count": 27,
   "metadata": {},
   "outputs": [],
   "source": [
    "# g. Join the words in the list to convert back to text string in the data frame.\n",
    "\n",
    "cleaned_tweets = pd.DataFrame(\n",
    "{\n",
    "    'Airline_sentiment': airlines_clean['airline_sentiment'], \n",
    "    'Tweet_Text': lemmatize_text\n",
    "})\n",
    "\n",
    "# Copy to create word cloud before hot encoding the sentiment to numbers \n",
    "word_cloud_sentiment = cleaned_tweets\n"
   ]
  },
  {
   "cell_type": "code",
   "execution_count": 11,
   "metadata": {
    "scrolled": true
   },
   "outputs": [
    {
     "data": {
      "text/html": [
       "<div>\n",
       "<style scoped>\n",
       "    .dataframe tbody tr th:only-of-type {\n",
       "        vertical-align: middle;\n",
       "    }\n",
       "\n",
       "    .dataframe tbody tr th {\n",
       "        vertical-align: top;\n",
       "    }\n",
       "\n",
       "    .dataframe thead th {\n",
       "        text-align: right;\n",
       "    }\n",
       "</style>\n",
       "<table border=\"1\" class=\"dataframe\">\n",
       "  <thead>\n",
       "    <tr style=\"text-align: right;\">\n",
       "      <th></th>\n",
       "      <th>Airline_sentiment</th>\n",
       "      <th>Tweet_Text</th>\n",
       "    </tr>\n",
       "  </thead>\n",
       "  <tbody>\n",
       "    <tr>\n",
       "      <th>0</th>\n",
       "      <td>0</td>\n",
       "      <td>virginamerica dhepburn said</td>\n",
       "    </tr>\n",
       "    <tr>\n",
       "      <th>1</th>\n",
       "      <td>1</td>\n",
       "      <td>virginamerica plus added commercials experienc...</td>\n",
       "    </tr>\n",
       "    <tr>\n",
       "      <th>2</th>\n",
       "      <td>0</td>\n",
       "      <td>virginamerica today must mean need take anothe...</td>\n",
       "    </tr>\n",
       "    <tr>\n",
       "      <th>3</th>\n",
       "      <td>2</td>\n",
       "      <td>virginamerica really aggressive blast obnoxiou...</td>\n",
       "    </tr>\n",
       "    <tr>\n",
       "      <th>4</th>\n",
       "      <td>2</td>\n",
       "      <td>virginamerica really big bad thing</td>\n",
       "    </tr>\n",
       "  </tbody>\n",
       "</table>\n",
       "</div>"
      ],
      "text/plain": [
       "   Airline_sentiment                                         Tweet_Text\n",
       "0                  0                        virginamerica dhepburn said\n",
       "1                  1  virginamerica plus added commercials experienc...\n",
       "2                  0  virginamerica today must mean need take anothe...\n",
       "3                  2  virginamerica really aggressive blast obnoxiou...\n",
       "4                  2                 virginamerica really big bad thing"
      ]
     },
     "execution_count": 11,
     "metadata": {},
     "output_type": "execute_result"
    }
   ],
   "source": [
    "# h. Replace Airline_sentiment with dummy variables (encoding)\n",
    "\n",
    "cleaned_tweets[\"Airline_sentiment\"].replace({\"neutral\": 0, \"positive\": 1, \"negative\":2}, inplace=True)\n",
    "\n",
    "# i. Print the first 5 rows of data after pre-processing.\n",
    "\n",
    "cleaned_tweets.head()"
   ]
  },
  {
   "cell_type": "markdown",
   "metadata": {},
   "source": [
    "## 4. Vectorization:"
   ]
  },
  {
   "cell_type": "code",
   "execution_count": 12,
   "metadata": {},
   "outputs": [
    {
     "name": "stdout",
     "output_type": "stream",
     "text": [
      "CountVectorizer Shape: (14640, 13493)\n"
     ]
    },
    {
     "data": {
      "text/plain": [
       "TfidfVectorizer()"
      ]
     },
     "execution_count": 12,
     "metadata": {},
     "output_type": "execute_result"
    },
    {
     "name": "stdout",
     "output_type": "stream",
     "text": [
      "Inverse Document Victorizer Frequencies: \n",
      "\n",
      "[4.98577902 9.89843391 9.89843391 ... 9.89843391 9.89843391 9.89843391]\n",
      "\n",
      "TfidfVectorizer Shape: (14640, 13493)\n"
     ]
    }
   ],
   "source": [
    "# a. CountVectorizer: \n",
    "from sklearn.feature_extraction.text import CountVectorizer, TfidfVectorizer\n",
    "Tweets_vectorizer = CountVectorizer()\n",
    "tweets_list = list(cleaned_tweets['Tweet_Text'])\n",
    "vectorized_tweets = Tweets_vectorizer.fit_transform(cleaned_tweets['Tweet_Text']) \n",
    "vectorized_tweets = vectorized_tweets.toarray() \n",
    "\n",
    "print('CountVectorizer Shape:', vectorized_tweets.shape)\n",
    "\n",
    "# --------------------------\n",
    "\n",
    "# b. TfidfVectorizer\n",
    "Tweets_TfidfVectorizer = TfidfVectorizer()\n",
    "\n",
    "# tokenize and build vocab\n",
    "Tweets_TfidfVectorizer.fit(cleaned_tweets['Tweet_Text'])\n",
    "\n",
    "#summarize\n",
    "print('Inverse Document Victorizer Frequencies: \\n')\n",
    "print(Tweets_TfidfVectorizer.idf_)\n",
    "\n",
    "\n",
    "# encode document\n",
    "TfidfVectorizer = Tweets_TfidfVectorizer.transform(cleaned_tweets['Tweet_Text']).toarray()\n",
    "\n",
    "# summarize encoded vector\n",
    "print('\\nTfidfVectorizer Shape:', TfidfVectorizer.shape)\n"
   ]
  },
  {
   "cell_type": "markdown",
   "metadata": {},
   "source": [
    "## 5. Fit and evaluate the model using both types of vectorization"
   ]
  },
  {
   "cell_type": "code",
   "execution_count": 13,
   "metadata": {},
   "outputs": [
    {
     "name": "stdout",
     "output_type": "stream",
     "text": [
      "Training the random forest on CountVectorizer...\n"
     ]
    },
    {
     "data": {
      "text/plain": [
       "RandomForestClassifier(n_estimators=10, n_jobs=4)"
      ]
     },
     "execution_count": 13,
     "metadata": {},
     "output_type": "execute_result"
    },
    {
     "name": "stdout",
     "output_type": "stream",
     "text": [
      "Accuracy on training set :  0.9844847775175644\n",
      "Accuracy on test set :  0.7363387978142076\n"
     ]
    }
   ],
   "source": [
    "from sklearn.ensemble import RandomForestClassifier\n",
    "from sklearn.model_selection import cross_val_score\n",
    "from sklearn.model_selection import train_test_split\n",
    "\n",
    "# 5. Using random forest classifier for CountVectorizer\n",
    "\n",
    "\n",
    "rf = RandomForestClassifier(n_estimators=10, n_jobs=4)\n",
    "print('Training the random forest on CountVectorizer...')\n",
    "\n",
    "X = vectorized_tweets\n",
    "y = cleaned_tweets['Airline_sentiment']\n",
    "\n",
    "\n",
    "\n",
    "# Split to train and test sets: \n",
    "X_train, X_test, y_train, y_test = train_test_split(X, y, test_size=.30, random_state=1)\n",
    "\n",
    "# Fit the model\n",
    "rf = rf.fit(X_train, y_train)\n",
    "rf\n",
    "print(\"Accuracy on training set : \",rf.score(X_train, y_train))\n",
    "print(\"Accuracy on test set : \",rf.score(X_test, y_test))\n"
   ]
  },
  {
   "cell_type": "code",
   "execution_count": 14,
   "metadata": {},
   "outputs": [
    {
     "data": {
      "text/plain": [
       "<matplotlib.axes._subplots.AxesSubplot at 0x7fd91cfbf7d0>"
      ]
     },
     "execution_count": 14,
     "metadata": {},
     "output_type": "execute_result"
    },
    {
     "data": {
      "text/plain": [
       "Text(0.5, 15.0, 'True labels')"
      ]
     },
     "execution_count": 14,
     "metadata": {},
     "output_type": "execute_result"
    },
    {
     "data": {
      "text/plain": [
       "Text(33.0, 0.5, 'Predicted labels')"
      ]
     },
     "execution_count": 14,
     "metadata": {},
     "output_type": "execute_result"
    },
    {
     "data": {
      "text/plain": [
       "Text(0.5, 1, 'Confusion Matrix')"
      ]
     },
     "execution_count": 14,
     "metadata": {},
     "output_type": "execute_result"
    },
    {
     "data": {
      "text/plain": [
       "[Text(0.5, 0, '0'), Text(1.5, 0, '1'), Text(2.5, 0, '2')]"
      ]
     },
     "execution_count": 14,
     "metadata": {},
     "output_type": "execute_result"
    },
    {
     "data": {
      "text/plain": [
       "[Text(0, 0.5, '0'), Text(0, 1.5, '1'), Text(0, 2.5, '2')]"
      ]
     },
     "execution_count": 14,
     "metadata": {},
     "output_type": "execute_result"
    },
    {
     "name": "stdout",
     "output_type": "stream",
     "text": [
      "\n",
      " precision and recall: \n",
      "\n",
      "              precision    recall  f1-score   support\n",
      "\n",
      "           0       0.54      0.51      0.53       936\n",
      "           1       0.68      0.54      0.60       715\n",
      "           2       0.80      0.86      0.83      2741\n",
      "\n",
      "    accuracy                           0.74      4392\n",
      "   macro avg       0.68      0.64      0.66      4392\n",
      "weighted avg       0.73      0.74      0.73      4392\n",
      "\n"
     ]
    },
    {
     "data": {
      "image/png": "[encoded data removed]",
      "text/plain": [
       "<Figure size 432x288 with 2 Axes>"
      ]
     },
     "metadata": {
      "needs_background": "light"
     },
     "output_type": "display_data"
    }
   ],
   "source": [
    "# Predict X_test and print Confusion Matrix:\n",
    "\n",
    "from sklearn import metrics\n",
    "\n",
    "vect_predict = rf.predict(X_test)    \n",
    "\n",
    "ax= plt.subplot()\n",
    "lebels = [0,1,2]\n",
    "cm = confusion_matrix(y_test, vect_predict, lebels)\n",
    "sns.heatmap(cm, annot=True, fmt='g', ax=ax);  \n",
    "\n",
    "# labels, title and ticks\n",
    "ax.set_xlabel('True labels');ax.set_ylabel('Predicted labels'); \n",
    "ax.set_title('Confusion Matrix'); \n",
    "ax.xaxis.set_ticklabels([0,1,2]); ax.yaxis.set_ticklabels([0,1,2]);\n",
    "\n",
    "\n",
    "# Printing the precision and recall, among other metrics\n",
    "print('\\n precision and recall: \\n')\n",
    "print(metrics.classification_report(y_test, vect_predict, labels=[0, 1, 2]))"
   ]
  },
  {
   "cell_type": "code",
   "execution_count": 15,
   "metadata": {},
   "outputs": [
    {
     "name": "stdout",
     "output_type": "stream",
     "text": [
      "Training the random forest on TfidfVectorizer...\n"
     ]
    },
    {
     "data": {
      "text/plain": [
       "RandomForestClassifier(n_estimators=10, n_jobs=4)"
      ]
     },
     "execution_count": 15,
     "metadata": {},
     "output_type": "execute_result"
    },
    {
     "name": "stdout",
     "output_type": "stream",
     "text": [
      "Mean Cross Validation Accuracy for TfidfVectorizer: 70.0 %\n"
     ]
    }
   ],
   "source": [
    "# Create random Forest Classifier\n",
    "rf2 = RandomForestClassifier(n_estimators=10, n_jobs=4)\n",
    "print('Training the random forest on TfidfVectorizer...')\n",
    "\n",
    "# Get the train sets: \n",
    "X = TfidfVectorizer\n",
    "y = cleaned_tweets['Airline_sentiment']\n",
    "\n",
    "# Fit the model\n",
    "rf2 = rf2.fit(X, y)\n",
    "rf2\n",
    "\n",
    "# We perform k-fold cross validation with 10 folds\n",
    "# The model trains on K-1 (9) folds, and uses the 10th fold for testing accuracy. \n",
    "# This is repeated 10 times, then we take the avrage of the accuracy score of all 10 folds\n",
    "\n",
    "cv_avg_accuracy = round(np.mean(cross_val_score(rf2, X, y, cv=10)),2)\n",
    "print('Mean Cross Validation Accuracy for TfidfVectorizer:', cv_avg_accuracy*100, '%')"
   ]
  },
  {
   "cell_type": "code",
   "execution_count": 43,
   "metadata": {},
   "outputs": [],
   "source": [
    "# # Word cloud for positive sentiment\n",
    "\n",
    "Positive_sent = word_cloud_sentiment[word_cloud_sentiment['Airline_sentiment']=='positive']\n",
    "Negative_sent = word_cloud_sentiment[word_cloud_sentiment['Airline_sentiment']=='negative']\n",
    "Neutral_sent = word_cloud_sentiment[word_cloud_sentiment['Airline_sentiment']=='neutral']\n",
    "\n",
    "import wordcloud\n",
    "def show_wordcloud(Positive_sent, title):\n",
    "    text = ' '.join(Positive_sent['content'].astype(str).tolist())\n",
    "    stopwords = set(wordcloud.STOPWORDS)\n",
    "    \n",
    "    fig_wordcloud = wordcloud.WordCloud(stopwords=stopwords,background_color='white',\n",
    "                    colormap='viridis', width=800, height=600).generate(text)\n",
    "    \n",
    "    plt.figure(figsize=(14,11), frameon=True)\n",
    "    plt.imshow(fig_wordcloud)  \n",
    "    plt.axis('off')\n",
    "    plt.title(title, fontsize=30)\n",
    "    plt.show()\n",
    "    "
   ]
  },
  {
   "cell_type": "code",
   "execution_count": 29,
   "metadata": {},
   "outputs": [
    {
     "data": {
      "text/plain": [
       "<matplotlib.image.AxesImage at 0x7fd75ee53290>"
      ]
     },
     "execution_count": 29,
     "metadata": {},
     "output_type": "execute_result"
    },
    {
     "data": {
      "text/plain": [
       "(-0.5, 399.5, 199.5, -0.5)"
      ]
     },
     "execution_count": 29,
     "metadata": {},
     "output_type": "execute_result"
    },
    {
     "data": {
      "image/png": "[encoded data removed]",
      "text/plain": [
       "<Figure size 432x288 with 1 Axes>"
      ]
     },
     "metadata": {
      "needs_background": "light"
     },
     "output_type": "display_data"
    }
   ],
   "source": [
    "# Positive Airline Tweets: \n",
    "data = Positive_sent['Tweet_Text'].value_counts().to_dict()\n",
    "wc = WordCloud().generate_from_frequencies(data)\n",
    "\n",
    "plt.imshow(wc)\n",
    "plt.axis('off')\n",
    "plt.show()"
   ]
  },
  {
   "cell_type": "code",
   "execution_count": 36,
   "metadata": {},
   "outputs": [
    {
     "data": {
      "text/plain": [
       "<matplotlib.image.AxesImage at 0x7fd75f933ad0>"
      ]
     },
     "execution_count": 36,
     "metadata": {},
     "output_type": "execute_result"
    },
    {
     "data": {
      "text/plain": [
       "(-0.5, 399.5, 199.5, -0.5)"
      ]
     },
     "execution_count": 36,
     "metadata": {},
     "output_type": "execute_result"
    },
    {
     "data": {
      "image/png": "[encoded data removed]",
      "text/plain": [
       "<Figure size 432x288 with 1 Axes>"
      ]
     },
     "metadata": {
      "needs_background": "light"
     },
     "output_type": "display_data"
    }
   ],
   "source": [
    "# Negative Airline Tweets: \n",
    "data = Negative_sent['Tweet_Text'].value_counts().to_dict()\n",
    "wc = WordCloud().generate_from_frequencies(data)\n",
    "\n",
    "plt.imshow(wc)\n",
    "plt.axis('off')\n",
    "plt.show()"
   ]
  },
  {
   "cell_type": "code",
   "execution_count": 41,
   "metadata": {},
   "outputs": [
    {
     "data": {
      "text/plain": [
       "<matplotlib.image.AxesImage at 0x7fd75f933650>"
      ]
     },
     "execution_count": 41,
     "metadata": {},
     "output_type": "execute_result"
    },
    {
     "data": {
      "text/plain": [
       "(-0.5, 399.5, 199.5, -0.5)"
      ]
     },
     "execution_count": 41,
     "metadata": {},
     "output_type": "execute_result"
    },
    {
     "data": {
      "image/png": "[encoded data removed]",
      "text/plain": [
       "<Figure size 432x288 with 1 Axes>"
      ]
     },
     "metadata": {
      "needs_background": "light"
     },
     "output_type": "display_data"
    }
   ],
   "source": [
    "# Neutral Airline Tweets: \n",
    "data = Neutral_sent['Tweet_Text'].value_counts().to_dict()\n",
    "wc = WordCloud().generate_from_frequencies(data)\n",
    "\n",
    "plt.imshow(wc)\n",
    "plt.axis('off')\n",
    "plt.show()"
   ]
  },
  {
   "cell_type": "markdown",
   "metadata": {},
   "source": [
    "### Summary\n",
    "- The airline tweet dataset contains 14640 rows and 15 columns that has customer reviews of airline services including United, American airllines, Southwest. \n",
    "\n",
    "- The reviews are categorized into Positive, Negative or Neutral Sentiments. \n",
    "\n",
    "- The purpose of this project is to test whether a customer review is positive, negative or neutral, using a machine learning classification algorithm.\n",
    "\n",
    "- Before applying the dataset into ML algorithm, data pre-processing steps have been taken, including: \n",
    "    1. Removing HTML tags\n",
    "    2. Remove numbers and special characters\n",
    "    3. convert text to lower case\n",
    "    4. Stop words removal\n",
    "    5. Tokenization and stemming\n",
    " \n",
    " \n",
    "- Random Forest is used to determine the category of the review, achieving 74% accuracy. \n",
    "\n",
    "- Confusion Matrix is created, proving important metrics such as precision, recall and F score. \n",
    "\n",
    "- Wordcloud has been generated to see the most frequent words used in the reviews. \n",
    "- Positive words include thank you, great, and love.\n",
    "- Negative sentiments include cancelled, bad, and worst.\n",
    "- Neutral sentiments include americanair, usairways and southwestair, which don't provide analytical value. \n",
    "\n",
    "- The sentiment analysis model can be imporved further using Neural Networks, or ensemble methods to increase accuracy of sentiment prediction.  "
   ]
  },
  {
   "cell_type": "code",
   "execution_count": null,
   "metadata": {},
   "outputs": [],
   "source": []
  }
 ],
 "metadata": {
  "kernelspec": {
   "display_name": "Python 3",
   "language": "python",
   "name": "python3"
  },
  "language_info": {
   "codemirror_mode": {
    "name": "ipython",
    "version": 3
   },
   "file_extension": ".py",
   "mimetype": "text/x-python",
   "name": "python",
   "nbconvert_exporter": "python",
   "pygments_lexer": "ipython3",
   "version": "3.7.4"
  }
 },
 "nbformat": 4,
 "nbformat_minor": 2
}
